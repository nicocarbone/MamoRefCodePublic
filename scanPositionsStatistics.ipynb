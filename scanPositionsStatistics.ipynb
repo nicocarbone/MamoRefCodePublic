{
 "cells": [
  {
   "cell_type": "code",
   "execution_count": 7,
   "metadata": {},
   "outputs": [],
   "source": [
    "import numpy as np\n",
    "import matplotlib.pyplot as plt"
   ]
  },
  {
   "cell_type": "code",
   "execution_count": 11,
   "metadata": {},
   "outputs": [
    {
     "data": {
      "text/plain": [
       "42"
      ]
     },
     "execution_count": 11,
     "metadata": {},
     "output_type": "execute_result"
    }
   ],
   "source": [
    "scanPositions = np.array([\n",
    "    183,\n",
    "    213,\n",
    "    180,\n",
    "    108,\n",
    "    249,\n",
    "    174,\n",
    "    228,\n",
    "    189,\n",
    "    171,\n",
    "    237,\n",
    "    345,\n",
    "    210,\n",
    "    345,\n",
    "    222,\n",
    "    144,\n",
    "    222,\n",
    "    144,\n",
    "    258,\n",
    "    228,\n",
    "    258,\n",
    "    228,\n",
    "    258,\n",
    "    177,\n",
    "    192,\n",
    "    252,\n",
    "    249,\n",
    "    207,\n",
    "    237,\n",
    "    204,\n",
    "    171,\n",
    "    204,\n",
    "    144,\n",
    "    65,\n",
    "    207,\n",
    "    96,\n",
    "    306,\n",
    "    282,\n",
    "    132,\n",
    "    183,\n",
    "    183,\n",
    "    168,\n",
    "    177,\n",
    "])\n",
    "\n",
    "np.size(scanPositions)"
   ]
  },
  {
   "cell_type": "code",
   "execution_count": 12,
   "metadata": {},
   "outputs": [
    {
     "name": "stdout",
     "output_type": "stream",
     "text": [
      "Mean number of scan positions: 68\n",
      "Median number of scan positions: 68\n",
      "Standard deviation: 19\n"
     ]
    }
   ],
   "source": [
    "meanScanPositions = np.mean(scanPositions/3)\n",
    "medianScanPositions = np.median(scanPositions/3)\n",
    "stdScanPostions = np.std(scanPositions/3)\n",
    "print(\n",
    "    \"Mean number of scan positions: {}\\nMedian number of scan positions: {}\\nStandard deviation: {}\".format(\n",
    "        round(meanScanPositions), round(medianScanPositions), round(stdScanPostions)\n",
    "    )\n",
    ")"
   ]
  },
  {
   "cell_type": "code",
   "execution_count": 9,
   "metadata": {},
   "outputs": [
    {
     "data": {
      "text/plain": [
       "Text(0.5, 0, 'Scan Positions')"
      ]
     },
     "execution_count": 9,
     "metadata": {},
     "output_type": "execute_result"
    },
    {
     "data": {
      "image/png": "[encoded data removed]",
      "text/plain": [
       "<Figure size 640x480 with 1 Axes>"
      ]
     },
     "metadata": {},
     "output_type": "display_data"
    }
   ],
   "source": [
    "histogram = plt.figure()\n",
    "plt.hist(scanPositions)\n",
    "plt.ylabel(\"Number of patients\")\n",
    "plt.xlabel(\"Scan Positions\")"
   ]
  }
 ],
 "metadata": {
  "kernelspec": {
   "display_name": "mamoRefEnv",
   "language": "python",
   "name": "python3"
  },
  "language_info": {
   "codemirror_mode": {
    "name": "ipython",
    "version": 3
   },
   "file_extension": ".py",
   "mimetype": "text/x-python",
   "name": "python",
   "nbconvert_exporter": "python",
   "pygments_lexer": "ipython3",
   "version": "3.11.6"
  }
 },
 "nbformat": 4,
 "nbformat_minor": 2
}
